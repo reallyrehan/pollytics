{
  "nbformat": 4,
  "nbformat_minor": 0,
  "metadata": {
    "colab": {
      "name": "Untitled1.ipynb",
      "provenance": [],
      "collapsed_sections": []
    },
    "kernelspec": {
      "name": "python3",
      "display_name": "Python 3"
    }
  },
  "cells": [
    {
      "cell_type": "code",
      "metadata": {
        "colab": {
          "base_uri": "https://localhost:8080/"
        },
        "id": "1mCOPpo4lBnK",
        "outputId": "e0ab5b7f-2dc5-4528-d4e0-061d63ccc9c0"
      },
      "source": [
        "%reset"
      ],
      "execution_count": 70,
      "outputs": [
        {
          "output_type": "stream",
          "text": [
            "Once deleted, variables cannot be recovered. Proceed (y/[n])? y\n"
          ],
          "name": "stdout"
        }
      ]
    },
    {
      "cell_type": "code",
      "metadata": {
        "id": "MRvXWrdobe0q"
      },
      "source": [
        "import os"
      ],
      "execution_count": 71,
      "outputs": []
    },
    {
      "cell_type": "code",
      "metadata": {
        "id": "HhrgxNyKbf8h"
      },
      "source": [
        "!apt-get install openjdk-8-jdk-headless -qq > /dev/null\n",
        "!wget -q https://downloads.apache.org/spark/spark-3.0.1/spark-3.0.1-bin-hadoop2.7.tgz\n",
        "!tar xf spark-3.0.1-bin-hadoop2.7.tgz\n",
        "!pip install -q findspark"
      ],
      "execution_count": 2,
      "outputs": []
    },
    {
      "cell_type": "code",
      "metadata": {
        "colab": {
          "base_uri": "https://localhost:8080/"
        },
        "id": "wT0LLEWybiMc",
        "outputId": "9f20605c-1192-4831-a35e-a48d7b7b6e73"
      },
      "source": [
        "!pip install py4j\n",
        "!export SPARK_HOME=/content/spark-3.0.1-bin-hadoop2.7.tgz\n",
        "!export PATH=$SPARK_HOME:$PATH\n",
        "!export PYTHONPATH=$SPARK_HOME/python:$PYTHONPATH"
      ],
      "execution_count": 3,
      "outputs": [
        {
          "output_type": "stream",
          "text": [
            "Collecting py4j\n",
            "\u001b[?25l  Downloading https://files.pythonhosted.org/packages/30/42/25ad191f311fcdb38b750d49de167abd535e37a144e730a80d7c439d1751/py4j-0.10.9.1-py2.py3-none-any.whl (198kB)\n",
            "\r\u001b[K     |█▋                              | 10kB 14.1MB/s eta 0:00:01\r\u001b[K     |███▎                            | 20kB 18.4MB/s eta 0:00:01\r\u001b[K     |█████                           | 30kB 11.3MB/s eta 0:00:01\r\u001b[K     |██████▋                         | 40kB 8.3MB/s eta 0:00:01\r\u001b[K     |████████▎                       | 51kB 4.2MB/s eta 0:00:01\r\u001b[K     |██████████                      | 61kB 4.5MB/s eta 0:00:01\r\u001b[K     |███████████▌                    | 71kB 4.7MB/s eta 0:00:01\r\u001b[K     |█████████████▏                  | 81kB 5.1MB/s eta 0:00:01\r\u001b[K     |██████████████▉                 | 92kB 5.5MB/s eta 0:00:01\r\u001b[K     |████████████████▌               | 102kB 4.0MB/s eta 0:00:01\r\u001b[K     |██████████████████▏             | 112kB 4.0MB/s eta 0:00:01\r\u001b[K     |███████████████████▉            | 122kB 4.0MB/s eta 0:00:01\r\u001b[K     |█████████████████████▌          | 133kB 4.0MB/s eta 0:00:01\r\u001b[K     |███████████████████████         | 143kB 4.0MB/s eta 0:00:01\r\u001b[K     |████████████████████████▊       | 153kB 4.0MB/s eta 0:00:01\r\u001b[K     |██████████████████████████▍     | 163kB 4.0MB/s eta 0:00:01\r\u001b[K     |████████████████████████████    | 174kB 4.0MB/s eta 0:00:01\r\u001b[K     |█████████████████████████████▊  | 184kB 4.0MB/s eta 0:00:01\r\u001b[K     |███████████████████████████████▍| 194kB 4.0MB/s eta 0:00:01\r\u001b[K     |████████████████████████████████| 204kB 4.0MB/s \n",
            "\u001b[?25hInstalling collected packages: py4j\n",
            "Successfully installed py4j-0.10.9.1\n"
          ],
          "name": "stdout"
        }
      ]
    },
    {
      "cell_type": "code",
      "metadata": {
        "id": "Qqy3bIBQbkFo"
      },
      "source": [
        "import os\n",
        "os.environ[\"JAVA_HOME\"] = \"/usr/lib/jvm/java-8-openjdk-amd64\"\n",
        "os.environ[\"SPARK_HOME\"] = \"/content/spark-3.0.1-bin-hadoop2.7\""
      ],
      "execution_count": 72,
      "outputs": []
    },
    {
      "cell_type": "code",
      "metadata": {
        "id": "1iut-volblqu"
      },
      "source": [
        "import findspark\n",
        "findspark.init()\n",
        "from pyspark.sql import SparkSession\n",
        "spark = SparkSession.builder.master(\"local[*]\").getOrCreate()\n"
      ],
      "execution_count": 77,
      "outputs": []
    },
    {
      "cell_type": "code",
      "metadata": {
        "colab": {
          "base_uri": "https://localhost:8080/"
        },
        "id": "k5z6Sj5-l2vn",
        "outputId": "95b980ac-2f8c-4713-a73a-a2ecc083d59d"
      },
      "source": [
        "import requests\n",
        "url = \"https://projects.fivethirtyeight.com/polls-page/president_polls.csv\"\n",
        "r = requests.get(url, allow_redirects=True)\n",
        "open('president_polls.csv', 'wb').write(r.content)\n"
      ],
      "execution_count": 82,
      "outputs": [
        {
          "output_type": "execute_result",
          "data": {
            "text/plain": [
              "5545626"
            ]
          },
          "metadata": {
            "tags": []
          },
          "execution_count": 82
        }
      ]
    },
    {
      "cell_type": "code",
      "metadata": {
        "colab": {
          "base_uri": "https://localhost:8080/"
        },
        "id": "khU_RaAJcNCl",
        "outputId": "bef6c8ba-aca9-4a62-d872-7a6182253b3a"
      },
      "source": [
        "\n",
        "df = spark.read.csv(\"president_polls.csv\",header=True)\n",
        "df.createOrReplaceTempView(\"polls\")\n",
        "query = \"\"\"\n",
        "SELECT a.start_date,case when a.answer =\"Biden\" then \"poll_biden\" else \"poll_trump\" end as user,weighted_average/total as pct,0-((50-(weighted_average/total))*2)/100 as mean FROM\n",
        "(SELECT answer,start_date,sum(sample_size*pct) as weighted_average FROM polls as a group by 1,2 ) a\n",
        "JOIN\n",
        "(SELECT answer,start_date,sum(sample_size) as total FROM polls as a group by 1,2) b\n",
        "ON a.answer = b.answer and a.start_date = b.start_date where a.answer in ('Trump','Biden') and a.start_date like \"%20\"\n",
        "order by 2,1\"\"\"\n",
        "sqlDF = spark.sql(query)\n",
        "sqlDF.show()\n"
      ],
      "execution_count": 83,
      "outputs": [
        {
          "output_type": "stream",
          "text": [
            "+----------+----------+------------------+--------------------+\n",
            "|start_date|      user|               pct|                mean|\n",
            "+----------+----------+------------------+--------------------+\n",
            "|   1/10/20|poll_biden|              46.0|               -0.08|\n",
            "|   1/11/20|poll_biden|              45.0|                -0.1|\n",
            "|   1/14/20|poll_biden| 52.47903916768666| 0.04958078335373315|\n",
            "|   1/15/20|poll_biden|  45.9490245437382|-0.08101950912523606|\n",
            "|   1/16/20|poll_biden|46.848320325755004|-0.06303359348489991|\n",
            "|   1/19/20|poll_biden|              50.0|                 0.0|\n",
            "|    1/2/20|poll_biden|              46.0|               -0.08|\n",
            "|   1/20/20|poll_biden| 47.55653923541247|-0.04886921529175055|\n",
            "|   1/21/20|poll_biden|46.125032651284286|-0.07749934697431428|\n",
            "|   1/22/20|poll_biden|              45.0|                -0.1|\n",
            "|   1/23/20|poll_biden|              49.0|               -0.02|\n",
            "|   1/26/20|poll_biden|              50.0|                 0.0|\n",
            "|   1/27/20|poll_biden|              46.0|               -0.08|\n",
            "|   1/28/20|poll_biden| 36.90228818800247|-0.26195423623995057|\n",
            "|    1/3/20|poll_biden| 49.82989076464747|-0.00340218470705...|\n",
            "|   1/30/20|poll_biden| 45.03636363636364|-0.09927272727272722|\n",
            "|   1/31/20|poll_biden|  42.3416149068323|-0.15316770186335404|\n",
            "|    1/5/20|poll_biden| 46.50016616816218|-0.06999667663675638|\n",
            "|    1/6/20|poll_biden|              46.0|               -0.08|\n",
            "|    1/7/20|poll_biden|              34.5|               -0.31|\n",
            "+----------+----------+------------------+--------------------+\n",
            "only showing top 20 rows\n",
            "\n"
          ],
          "name": "stdout"
        }
      ]
    },
    {
      "cell_type": "code",
      "metadata": {
        "id": "IxztRaB2mf9I"
      },
      "source": [
        "sqlDF.toPandas().to_csv('pyspark_transformed_polls.csv')\n"
      ],
      "execution_count": 85,
      "outputs": []
    }
  ]
}